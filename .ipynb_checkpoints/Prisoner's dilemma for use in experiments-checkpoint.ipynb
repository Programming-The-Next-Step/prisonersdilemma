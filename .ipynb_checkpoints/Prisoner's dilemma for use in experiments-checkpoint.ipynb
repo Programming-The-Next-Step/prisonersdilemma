{
 "cells": [
  {
   "cell_type": "markdown",
   "metadata": {},
   "source": [
    "https://daringfireball.net/projects/markdown/\n",
    "Welcome to the prisoner's dilemma game! This software is meant for use in experiments, for example in Social Psychology, at desktop machines. Please note that it is not possible to use it as an online version. \n",
    "Below you can find code for the single-trial prisoner's dilemma game with a specific add-on: participants play either with an ethnic in-group member, out-group member or have no information about their opponent. Opponents are programmed to use one of 7 strategies in each trial (consisting of 7 rounds as default): \n",
    "\n",
    "1. Opponent always cooperates\n",
    "2. Opponent always defects (betrays the participant)\n",
    "3. Opponent cooperates or defects on a random basis\n",
    "4. Nice tit for tat: opponent cooperates in the first round, then copies the participant's moves\n",
    "5. Suspicious tit for tat: opponent defects in the first round, then copies the participant's moves\n",
    "\n",
    "This notebook will guide you through the code, its objects, functions and specifications and will also inform how to change default values to use it as you need."
   ]
  },
  {
   "cell_type": "markdown",
   "metadata": {},
   "source": [
    "Here are a few screenshots to see how the game looks like:"
   ]
  },
  {
   "cell_type": "markdown",
   "metadata": {},
   "source": [
    "These are the modules you will need:"
   ]
  },
  {
   "cell_type": "code",
   "execution_count": null,
   "metadata": {},
   "outputs": [],
   "source": []
  },
  {
   "cell_type": "code",
   "execution_count": null,
   "metadata": {},
   "outputs": [],
   "source": []
  }
 ],
 "metadata": {
  "kernelspec": {
   "display_name": "Python 3",
   "language": "python",
   "name": "python3"
  },
  "language_info": {
   "codemirror_mode": {
    "name": "ipython",
    "version": 3
   },
   "file_extension": ".py",
   "mimetype": "text/x-python",
   "name": "python",
   "nbconvert_exporter": "python",
   "pygments_lexer": "ipython3",
   "version": "3.7.4"
  }
 },
 "nbformat": 4,
 "nbformat_minor": 2
}
