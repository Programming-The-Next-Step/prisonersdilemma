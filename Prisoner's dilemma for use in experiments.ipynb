{
 "cells": [
  {
   "cell_type": "markdown",
   "metadata": {},
   "source": [
    "### Welcome to the prisoner's dilemma game! \n",
    "\n",
    "This software is meant for use in experiments, for example in Social Psychology, at desktop machines. Please note that it is not possible to use it as an online version. \n",
    "Below you can find code for the single-trial prisoner's dilemma game as well as options for customisation. Opponents are programmed to use one of 5 strategies in each trial (consisting of 7 rounds as default): \n",
    "\n",
    "1. Opponent always cooperates\n",
    "2. Opponent always defects (betrays the participant)\n",
    "3. Opponent cooperates or defects on a random basis\n",
    "4. Nice tit for tat: opponent cooperates in the first round, then copies the participant's moves\n",
    "5. Suspicious tit for tat: opponent defects in the first round, then copies the participant's moves\n",
    "\n",
    "This notebook will guide you through the code, its objects, functions and specifications and will also inform how to change default values to use it as you need."
   ]
  },
  {
   "cell_type": "markdown",
   "metadata": {},
   "source": [
    "The set up of the game is as follows:\n",
    "\n",
    "> Imagine you are one of two people being questioned about the same crime. They are each talking to the interrogator separately. The interrogator gives each person the same deal: \n",
    "they can choose to vouch for the other person’s innocence (COOPERATING) or rat them out (DEFECTING). \n",
    "And of course, there’s a twist. If both people cooperate with each other, they’ll each get 3 months off their sentence, but if the first person vouches for the second person, and the second person rats them out, the first person will get no time off their sentence and the second person will get 5 months off their time. Lastly, if they both rat each other out, they each get 1 month off their time."
   ]
  },
  {
   "cell_type": "markdown",
   "metadata": {},
   "source": [
    "Here are a few screenshots to see how the game looks like:\n",
    "\n"
   ]
  },
  {
   "cell_type": "markdown",
   "metadata": {},
   "source": []
  },
  {
   "cell_type": "markdown",
   "metadata": {},
   "source": [
    "These are the modules you will need:"
   ]
  },
  {
   "cell_type": "code",
   "execution_count": null,
   "metadata": {},
   "outputs": [],
   "source": []
  },
  {
   "cell_type": "markdown",
   "metadata": {},
   "source": [
    "Next, we want to create the window in which the experiment takes place. The display size is defined so that it adapts to the monitor of the PC used. "
   ]
  },
  {
   "cell_type": "code",
   "execution_count": null,
   "metadata": {},
   "outputs": [],
   "source": []
  },
  {
   "cell_type": "markdown",
   "metadata": {},
   "source": [
    "Now we create the objects we will use. The code here is in the same order as it will be used once we start the game.\n",
    "We'll start with the objects for introduction and instruction."
   ]
  },
  {
   "cell_type": "code",
   "execution_count": null,
   "metadata": {},
   "outputs": [],
   "source": []
  },
  {
   "cell_type": "markdown",
   "metadata": {},
   "source": [
    "Participants as well as their opponent are represented in the game by avatars. These objects are used for explaining this and defining the image objects. \n",
    "These are avatars you can use created with www.hexatar.com, however you are free to use your own. \n",
    "\n",
    "These are the avatars participants can choose from:\n",
    "![participants avatars](https://raw.githubusercontent.com/Programming-The-Next-Step/prisonersdilemma/spitzer/partchoice.png)\n",
    "\n",
    "These are the avatars representing opponents (in-group/out-group and anonymous):\n",
    "![participants opponents](https://raw.githubusercontent.com/Programming-The-Next-Step/prisonersdilemma/spitzer/opponent1.png)\n",
    "![participants opponents](https://raw.githubusercontent.com/Programming-The-Next-Step/prisonersdilemma/spitzer/opponent2.png)\n",
    "![participants opponents](https://raw.githubusercontent.com/Programming-The-Next-Step/prisonersdilemma/spitzer/anonymous.jpg)"
   ]
  },
  {
   "cell_type": "markdown",
   "metadata": {},
   "source": [
    "Here we define objects during the actual game: instructions about controls, a connecting screen, text to be displayed after every round and a goodbye screen."
   ]
  },
  {
   "cell_type": "markdown",
   "metadata": {},
   "source": [
    "We will also need to get respondends key presses since this is how they navigate the game as well as lists we shuffle for random assignment of strategies and conditions."
   ]
  },
  {
   "cell_type": "markdown",
   "metadata": {},
   "source": [
    "Next, we define functions we need during the experiment.\n",
    "\n",
    "We start with the sentencetracker:\n",
    "During the experiment, we need to update how many months the participant has\n",
    "to spend in prison now, depending on the choice they made and the choice their\n",
    "opponent made. For doing this during the trial loop, we write the function\n",
    "sentencetracker, that checks the participants choice (either cooperating or\n",
    "defecting) as well as the opponents strategy and updates the sentence based on this and according to the game set up."
   ]
  },
  {
   "cell_type": "markdown",
   "metadata": {},
   "source": [
    "Here's the functions for the different strategies. We define one function for each strategy. There are 5 possible strategies that are chosen randomly and followed through the whole trial which consists of 7 rounds as default.\n",
    "We also include the sentence tracker function and the connection screen that\n",
    "displays the current sentence in months."
   ]
  },
  {
   "cell_type": "markdown",
   "metadata": {},
   "source": [
    "Here we assign the conditions and make sure that the right avatars are displayed, based on the participant's avatar and the condition assigned. They way this is written, you should easily be able to customise which conditions\n",
    "you want to use based on which avatars. This might seem like unnecessary complicated code, but it makes transparent how the conditions relate to the avatars."
   ]
  },
  {
   "cell_type": "markdown",
   "metadata": {},
   "source": [
    "Time to start the experiment!\n",
    "Let's start with the introduction, let the participant choose their avatar and assign a condition. After that, we explain how it works."
   ]
  },
  {
   "cell_type": "markdown",
   "metadata": {},
   "source": [
    "This is the trial loop, it's now set to 7 trials (see object ntrials = 7 above to change it)."
   ]
  }
 ],
 "metadata": {
  "kernelspec": {
   "display_name": "Python 3",
   "language": "python",
   "name": "python3"
  },
  "language_info": {
   "codemirror_mode": {
    "name": "ipython",
    "version": 3
   },
   "file_extension": ".py",
   "mimetype": "text/x-python",
   "name": "python",
   "nbconvert_exporter": "python",
   "pygments_lexer": "ipython3",
   "version": "3.7.4"
  }
 },
 "nbformat": 4,
 "nbformat_minor": 2
}
